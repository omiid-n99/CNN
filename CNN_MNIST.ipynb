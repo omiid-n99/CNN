{
  "nbformat": 4,
  "nbformat_minor": 0,
  "metadata": {
    "colab": {
      "provenance": [],
      "authorship_tag": "ABX9TyMxDMEG3X/XRPnswQ4bxWRD",
      "include_colab_link": true
    },
    "kernelspec": {
      "name": "python3",
      "display_name": "Python 3"
    },
    "language_info": {
      "name": "python"
    }
  },
  "cells": [
    {
      "cell_type": "markdown",
      "metadata": {
        "id": "view-in-github",
        "colab_type": "text"
      },
      "source": [
        "<a href=\"https://colab.research.google.com/github/omiid-n99/CNN/blob/main/CNN_MNIST.ipynb\" target=\"_parent\"><img src=\"https://colab.research.google.com/assets/colab-badge.svg\" alt=\"Open In Colab\"/></a>"
      ]
    },
    {
      "cell_type": "code",
      "execution_count": null,
      "metadata": {
        "colab": {
          "base_uri": "https://localhost:8080/"
        },
        "id": "9lf7ZaiuAYYL",
        "outputId": "38ade9b8-baef-45f7-edf3-a24395c75272"
      },
      "outputs": [
        {
          "output_type": "stream",
          "name": "stdout",
          "text": [
            "Epoch 1/10\n",
            "938/938 [==============================] - 69s 72ms/step - loss: 0.5358 - accuracy: 0.8048 - val_loss: 0.4296 - val_accuracy: 0.8467\n",
            "Epoch 2/10\n",
            "938/938 [==============================] - 67s 72ms/step - loss: 0.3412 - accuracy: 0.8769 - val_loss: 0.3436 - val_accuracy: 0.8739\n",
            "Epoch 3/10\n",
            "938/938 [==============================] - 67s 72ms/step - loss: 0.2926 - accuracy: 0.8937 - val_loss: 0.3212 - val_accuracy: 0.8836\n",
            "Epoch 4/10\n",
            "938/938 [==============================] - 67s 71ms/step - loss: 0.2617 - accuracy: 0.9043 - val_loss: 0.3043 - val_accuracy: 0.8880\n",
            "Epoch 5/10\n",
            "938/938 [==============================] - 66s 71ms/step - loss: 0.2383 - accuracy: 0.9120 - val_loss: 0.2708 - val_accuracy: 0.9016\n",
            "Epoch 6/10\n",
            "938/938 [==============================] - 66s 70ms/step - loss: 0.2186 - accuracy: 0.9183 - val_loss: 0.2797 - val_accuracy: 0.8990\n",
            "Epoch 7/10\n",
            "938/938 [==============================] - 66s 70ms/step - loss: 0.2010 - accuracy: 0.9241 - val_loss: 0.2710 - val_accuracy: 0.9013\n",
            "Epoch 8/10\n",
            "938/938 [==============================] - 66s 71ms/step - loss: 0.1846 - accuracy: 0.9312 - val_loss: 0.2980 - val_accuracy: 0.8984\n",
            "Epoch 9/10\n",
            "938/938 [==============================] - 67s 72ms/step - loss: 0.1724 - accuracy: 0.9356 - val_loss: 0.2760 - val_accuracy: 0.9075\n",
            "Epoch 10/10\n",
            "938/938 [==============================] - 68s 72ms/step - loss: 0.1579 - accuracy: 0.9412 - val_loss: 0.2726 - val_accuracy: 0.9138\n",
            "313/313 [==============================] - 4s 12ms/step - loss: 0.2726 - accuracy: 0.9138\n",
            "Test accuracy: 0.9138000011444092\n"
          ]
        }
      ],
      "source": [
        "import tensorflow as tf\n",
        "from tensorflow import keras\n",
        "\n",
        "# Load the dataset\n",
        "(x_train, y_train), (x_test, y_test) = keras.datasets.fashion_mnist.load_data()\n",
        "\n",
        "# Preprocess the data\n",
        "x_train = x_train.astype('float32') / 255.0\n",
        "x_test = x_test.astype('float32') / 255.0\n",
        "y_train = keras.utils.to_categorical(y_train)\n",
        "y_test = keras.utils.to_categorical(y_test)\n",
        "\n",
        "# Define the model architecture\n",
        "model = keras.Sequential([\n",
        "    keras.layers.Conv2D(32, (3,3), activation='relu', input_shape=(28,28,1)),\n",
        "    keras.layers.MaxPooling2D((2,2)),\n",
        "    keras.layers.Conv2D(64, (3,3), activation='relu'),\n",
        "    keras.layers.MaxPooling2D((2,2)),\n",
        "    keras.layers.Conv2D(64, (3,3), activation='relu'),\n",
        "    keras.layers.Flatten(),\n",
        "    keras.layers.Dense(64, activation='relu'),\n",
        "    keras.layers.Dense(10, activation='softmax')\n",
        "])\n",
        "\n",
        "# Compile the model\n",
        "model.compile(optimizer='adam', loss='categorical_crossentropy', metrics=['accuracy'])\n",
        "\n",
        "# Train the model\n",
        "model.fit(x_train, y_train, epochs=10, batch_size=64, validation_data=(x_test, y_test))\n",
        "\n",
        "# Evaluate the model\n",
        "test_loss, test_acc = model.evaluate(x_test, y_test)\n",
        "print('Test accuracy:', test_acc)"
      ]
    }
  ]
}