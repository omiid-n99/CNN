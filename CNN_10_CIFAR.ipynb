{
  "nbformat": 4,
  "nbformat_minor": 0,
  "metadata": {
    "colab": {
      "provenance": [],
      "authorship_tag": "ABX9TyNsJJ7XzfmpDFwZLZIcdO7N",
      "include_colab_link": true
    },
    "kernelspec": {
      "name": "python3",
      "display_name": "Python 3"
    },
    "language_info": {
      "name": "python"
    }
  },
  "cells": [
    {
      "cell_type": "markdown",
      "metadata": {
        "id": "view-in-github",
        "colab_type": "text"
      },
      "source": [
        "<a href=\"https://colab.research.google.com/github/omiid-n99/CNN/blob/main/CNN_10_CIFAR.ipynb\" target=\"_parent\"><img src=\"https://colab.research.google.com/assets/colab-badge.svg\" alt=\"Open In Colab\"/></a>"
      ]
    },
    {
      "cell_type": "code",
      "execution_count": null,
      "metadata": {
        "colab": {
          "base_uri": "https://localhost:8080/"
        },
        "id": "7T0wyalwBO6n",
        "outputId": "4fdc8606-3d3b-454e-db1d-781bc7363fec"
      },
      "outputs": [
        {
          "output_type": "stream",
          "name": "stdout",
          "text": [
            "Downloading data from https://www.cs.toronto.edu/~kriz/cifar-10-python.tar.gz\n",
            "170498071/170498071 [==============================] - 5s 0us/step\n",
            "Epoch 1/20\n",
            "782/782 [==============================] - 330s 420ms/step - loss: 1.5284 - accuracy: 0.4460 - val_loss: 1.1371 - val_accuracy: 0.5934\n",
            "Epoch 2/20\n",
            "782/782 [==============================] - 325s 415ms/step - loss: 1.0761 - accuracy: 0.6182 - val_loss: 0.8814 - val_accuracy: 0.6921\n",
            "Epoch 3/20\n",
            "782/782 [==============================] - 324s 415ms/step - loss: 0.9047 - accuracy: 0.6795 - val_loss: 0.8131 - val_accuracy: 0.7151\n",
            "Epoch 4/20\n",
            "782/782 [==============================] - 322s 411ms/step - loss: 0.8100 - accuracy: 0.7163 - val_loss: 0.7569 - val_accuracy: 0.7418\n",
            "Epoch 5/20\n",
            "782/782 [==============================] - 321s 411ms/step - loss: 0.7313 - accuracy: 0.7425 - val_loss: 0.7099 - val_accuracy: 0.7567\n",
            "Epoch 6/20\n",
            "782/782 [==============================] - 320s 409ms/step - loss: 0.6792 - accuracy: 0.7613 - val_loss: 0.7406 - val_accuracy: 0.7531\n",
            "Epoch 7/20\n",
            "782/782 [==============================] - 314s 402ms/step - loss: 0.6342 - accuracy: 0.7759 - val_loss: 0.6601 - val_accuracy: 0.7744\n",
            "Epoch 8/20\n",
            "782/782 [==============================] - 315s 403ms/step - loss: 0.5879 - accuracy: 0.7918 - val_loss: 0.6449 - val_accuracy: 0.7756\n",
            "Epoch 9/20\n",
            "782/782 [==============================] - 322s 412ms/step - loss: 0.5550 - accuracy: 0.8023 - val_loss: 0.6421 - val_accuracy: 0.7812\n",
            "Epoch 10/20\n",
            "782/782 [==============================] - 319s 409ms/step - loss: 0.5302 - accuracy: 0.8114 - val_loss: 0.6421 - val_accuracy: 0.7795\n",
            "Epoch 11/20\n",
            "782/782 [==============================] - 323s 412ms/step - loss: 0.5002 - accuracy: 0.8229 - val_loss: 0.6373 - val_accuracy: 0.7878\n",
            "Epoch 12/20\n",
            "782/782 [==============================] - 318s 407ms/step - loss: 0.4776 - accuracy: 0.8299 - val_loss: 0.6063 - val_accuracy: 0.7942\n",
            "Epoch 13/20\n",
            "782/782 [==============================] - 320s 409ms/step - loss: 0.4595 - accuracy: 0.8369 - val_loss: 0.6363 - val_accuracy: 0.7860\n",
            "Epoch 14/20\n",
            "782/782 [==============================] - 319s 408ms/step - loss: 0.4356 - accuracy: 0.8448 - val_loss: 0.6221 - val_accuracy: 0.7943\n",
            "Epoch 15/20\n",
            "782/782 [==============================] - 316s 404ms/step - loss: 0.4212 - accuracy: 0.8501 - val_loss: 0.6353 - val_accuracy: 0.7910\n",
            "Epoch 16/20\n",
            "782/782 [==============================] - 311s 398ms/step - loss: 0.4012 - accuracy: 0.8565 - val_loss: 0.6919 - val_accuracy: 0.7784\n",
            "Epoch 17/20\n",
            "782/782 [==============================] - 319s 408ms/step - loss: 0.3878 - accuracy: 0.8620 - val_loss: 0.6249 - val_accuracy: 0.7969\n",
            "Epoch 18/20\n",
            "782/782 [==============================] - 318s 406ms/step - loss: 0.3721 - accuracy: 0.8663 - val_loss: 0.6205 - val_accuracy: 0.8008\n",
            "Epoch 19/20\n",
            "782/782 [==============================] - 309s 395ms/step - loss: 0.3671 - accuracy: 0.8714 - val_loss: 0.6074 - val_accuracy: 0.7980\n",
            "Epoch 20/20\n",
            "782/782 [==============================] - 309s 396ms/step - loss: 0.3541 - accuracy: 0.8751 - val_loss: 0.6412 - val_accuracy: 0.7956\n",
            "313/313 [==============================] - 15s 46ms/step - loss: 0.6412 - accuracy: 0.7956\n",
            "Test accuracy: 0.7955999970436096\n"
          ]
        }
      ],
      "source": [
        "import tensorflow as tf\n",
        "from tensorflow import keras\n",
        "from keras.models import Sequential\n",
        "from keras.layers import Conv2D, MaxPooling2D, Flatten, Dense, Dropout\n",
        "\n",
        "# Load the dataset\n",
        "(x_train, y_train), (x_test, y_test) = keras.datasets.cifar10.load_data()\n",
        "\n",
        "# Preprocess the data\n",
        "x_train = x_train.astype('float32') / 255.0\n",
        "x_test = x_test.astype('float32') / 255.0\n",
        "y_train = keras.utils.to_categorical(y_train)\n",
        "y_test = keras.utils.to_categorical(y_test)\n",
        "\n",
        "# Define the model architecture\n",
        "model = Sequential()\n",
        "model.add(Conv2D(32, (3, 3), activation='relu', padding='same', input_shape=x_train.shape[1:]))\n",
        "model.add(Conv2D(32, (3, 3), activation='relu', padding='same'))\n",
        "model.add(MaxPooling2D(pool_size=(2, 2)))\n",
        "model.add(Dropout(0.25))\n",
        "model.add(Conv2D(64, (3, 3), activation='relu', padding='same'))\n",
        "model.add(Conv2D(64, (3, 3), activation='relu', padding='same'))\n",
        "model.add(MaxPooling2D(pool_size=(2, 2)))\n",
        "model.add(Dropout(0.25))\n",
        "model.add(Flatten())\n",
        "model.add(Dense(512, activation='relu'))\n",
        "model.add(Dropout(0.5))\n",
        "model.add(Dense(10, activation='softmax'))\n",
        "\n",
        "# Compile the model\n",
        "model.compile(optimizer='adam', loss='categorical_crossentropy', metrics=['accuracy'])\n",
        "\n",
        "# Train the model\n",
        "model.fit(x_train, y_train, epochs=20, batch_size=64, validation_data=(x_test, y_test))\n",
        "\n",
        "# Evaluate the model\n",
        "test_loss, test_acc = model.evaluate(x_test, y_test)\n",
        "print('Test accuracy:', test_acc)"
      ]
    }
  ]
}